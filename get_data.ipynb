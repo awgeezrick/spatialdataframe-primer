{
 "cells": [
  {
   "cell_type": "code",
   "execution_count": 1,
   "metadata": {},
   "outputs": [],
   "source": [
    "from arcgis.gis import GIS, Item"
   ]
  },
  {
   "cell_type": "markdown",
   "metadata": {},
   "source": [
    "# SpatialDataFrame from Item ID\n",
    "\n",
    "The ArcGIS Python API's [SpatialDataFrame](https://esri.github.io/arcgis-python-api/apidoc/html/arcgis.features.toc.html#spatialdataframe) object is an extension of the [Pandas DataFrame](https://pandas.pydata.org/pandas-docs/stable/generated/pandas.DataFrame.html). As a result, all of the functionality available with a Pandas DataFrame is part of the SpatialDataFrame object with the inclusion of a spatial data type, and methods for interacting with these spatial properties. Since fundamentally still a Pandas DataFrame, the SpatialDataFrame can be used in any data analysis workflows using Pandas DataFrames."
   ]
  },
  {
   "cell_type": "markdown",
   "metadata": {},
   "source": [
    "## SpatialDataFrame from Web GIS Item ID\n",
    "\n",
    "Using a Web GIS Item identifier for a Feature Layer item, a SpatialDataFrame can be created in one line of code. However, to look at all the steps happening, we will incrementally build up to a SpatialDataFrame. Then, we will condense all these steps into one line of code."
   ]
  },
  {
   "cell_type": "markdown",
   "metadata": {},
   "source": [
    "Many times, but always, one of the first steps is establishing a connection to an Esri Web GIS using the GIS object. There are a variety of optioons for connecting to a Web GIS depending on whether the Web GIS is ArcGIS Enterprise or ArcGIS Online. These options are well detailed in an [example in the documentation](https://developers.arcgis.com/python/guide/working-with-different-authentication-schemes/).\n",
    "\n",
    "Fundamentally, for working with SpatialDataFrames in this notebook, the GIS object stores the propertries for connecting to an Esri WebGIS. This is where we are going to retrieve our data from through a structured REST API for interacting with Esri spatial tables, an ArcGIS Feature Service."
   ]
  },
  {
   "cell_type": "code",
   "execution_count": 2,
   "metadata": {},
   "outputs": [
    {
     "data": {
      "text/html": [
       "GIS @ <a href=\"https://www.arcgis.com\">https://www.arcgis.com</a>"
      ],
      "text/plain": [
       "<arcgis.gis.GIS at 0x1040d75f8>"
      ]
     },
     "execution_count": 2,
     "metadata": {},
     "output_type": "execute_result"
    }
   ],
   "source": [
    "gis = GIS()\n",
    "gis"
   ]
  },
  {
   "cell_type": "markdown",
   "metadata": {},
   "source": [
    "Next, simply as a best practice, we are going to save the item identifier in a variable for use later in our notebook."
   ]
  },
  {
   "cell_type": "code",
   "execution_count": 3,
   "metadata": {},
   "outputs": [],
   "source": [
    "item_id = '86eefc4a3ccb4b56a5fb2b076588127b'"
   ]
  },
  {
   "cell_type": "markdown",
   "metadata": {},
   "source": [
    "This is the item identifier collected from the url for the item.\n",
    "\n",
    "* URL: https://commteamretail.maps.arcgis.com/home/item.html?id=86eefc4a3ccb4b56a5fb2b076588127b\n",
    "* ID: 86eefc4a3ccb4b56a5fb2b076588127b"
   ]
  },
  {
   "cell_type": "markdown",
   "metadata": {},
   "source": [
    "### Step by Step"
   ]
  },
  {
   "cell_type": "markdown",
   "metadata": {},
   "source": [
    "The Web GIS is a custom spatial content management system. All content in our Web GIS is registered as items. Since our starting point is an item identifier, we first need to create an Item object instance."
   ]
  },
  {
   "cell_type": "code",
   "execution_count": 4,
   "metadata": {},
   "outputs": [
    {
     "data": {
      "text/html": [
       "<div class=\"item_container\" style=\"height: auto; overflow: hidden; border: 1px solid #cfcfcf; border-radius: 2px; background: #f6fafa; line-height: 1.21429em; padding: 10px;\">\n",
       "                    <div class=\"item_left\" style=\"width: 210px; float: left;\">\n",
       "                       <a href='https://www.arcgis.com/home/item.html?id=86eefc4a3ccb4b56a5fb2b076588127b' target='_blank'>\n",
       "                        <img src='https://www.arcgis.com/sharing/rest//content/items/86eefc4a3ccb4b56a5fb2b076588127b/info/thumbnail/ago_downloaded.png' class=\"itemThumbnail\">\n",
       "                       </a>\n",
       "                    </div>\n",
       "\n",
       "                    <div class=\"item_right\"     style=\"float: none; width: auto; overflow: hidden;\">\n",
       "                        <a href='https://www.arcgis.com/home/item.html?id=86eefc4a3ccb4b56a5fb2b076588127b' target='_blank'><b>demoLocations</b>\n",
       "                        </a>\n",
       "                        <br/>Demonstration locations all created from data in ArcGIS Business Analyst business listing data. The sales performance field is completely arbitrary. Fields prefixed with a D_ are all demographic variables added through enrichment.<img src='https://www.arcgis.com/home/js/jsapi/esri/css/images/item_type_icons/featureshosted16.png' style=\"vertical-align:middle;\">Feature Layer Collection by joel5174@esri.com_commteamretail\n",
       "                        <br/>Last Modified: March 21, 2018\n",
       "                        <br/>0 comments, 2 views\n",
       "                    </div>\n",
       "                </div>\n",
       "                "
      ],
      "text/plain": [
       "<Item title:\"demoLocations\" type:Feature Layer Collection owner:joel5174@esri.com_commteamretail>"
      ]
     },
     "execution_count": 4,
     "metadata": {},
     "output_type": "execute_result"
    }
   ],
   "source": [
    "item = Item(gis, item_id)\n",
    "item"
   ]
  },
  {
   "cell_type": "markdown",
   "metadata": {},
   "source": [
    "This item, when initially published, registers one layer, a REST endpoint for interacting with our Esri spatial table, in our Web GIS. To get access to the data, we need to access the [FeatureLayer](https://esri.github.io/arcgis-python-api/apidoc/html/arcgis.features.toc.html#featurelayer) through the `layers` property."
   ]
  },
  {
   "cell_type": "code",
   "execution_count": 5,
   "metadata": {},
   "outputs": [
    {
     "data": {
      "text/plain": [
       "<FeatureLayer url:\"https://services.arcgis.com/PMTtzuTB6WiPuNSv/arcgis/rest/services/adf6e4/FeatureServer/0\">"
      ]
     },
     "execution_count": 5,
     "metadata": {},
     "output_type": "execute_result"
    }
   ],
   "source": [
    "layer = item.layers[0]\n",
    "layer"
   ]
  },
  {
   "cell_type": "markdown",
   "metadata": {},
   "source": [
    "This FeatureLayer enables us to interact with the REST endpoint for accessing this spatial table, but we do not yet have the actual data. We need to perform a [query](https://esri.github.io/arcgis-python-api/apidoc/html/arcgis.features.toc.html#arcgis.features.FeatureLayer.query) to get the actual data. Incidentally, we are explicitly specifiying the output spatial reference, WGS84, using the well-known identifier, 4326. This ensures the geometry coordinates will all be in familiar longitude and latitude."
   ]
  },
  {
   "cell_type": "code",
   "execution_count": 6,
   "metadata": {},
   "outputs": [
    {
     "data": {
      "text/plain": [
       "<FeatureSet> 1808 features"
      ]
     },
     "execution_count": 6,
     "metadata": {},
     "output_type": "execute_result"
    }
   ],
   "source": [
    "feature_set = layer.query(out_sr={'wkid': 4326})\n",
    "feature_set"
   ]
  },
  {
   "cell_type": "markdown",
   "metadata": {},
   "source": [
    "The query returns a [FeatureSet](https://esri.github.io/arcgis-python-api/apidoc/html/arcgis.features.toc.html#featureset) object. This FeatureSet object can be converted to a SpatialDataFrame using the `.df` property."
   ]
  },
  {
   "cell_type": "code",
   "execution_count": 7,
   "metadata": {},
   "outputs": [
    {
     "data": {
      "text/html": [
       "<div>\n",
       "<style scoped>\n",
       "    .dataframe tbody tr th:only-of-type {\n",
       "        vertical-align: middle;\n",
       "    }\n",
       "\n",
       "    .dataframe tbody tr th {\n",
       "        vertical-align: top;\n",
       "    }\n",
       "\n",
       "    .dataframe thead th {\n",
       "        text-align: right;\n",
       "    }\n",
       "</style>\n",
       "<table border=\"1\" class=\"dataframe\">\n",
       "  <thead>\n",
       "    <tr style=\"text-align: right;\">\n",
       "      <th></th>\n",
       "      <th>CITY</th>\n",
       "      <th>D_AGGDI_CY</th>\n",
       "      <th>D_AGGNW_CY</th>\n",
       "      <th>D_AMERIND_</th>\n",
       "      <th>D_ASIAN_CY</th>\n",
       "      <th>D_ASSCDEG_</th>\n",
       "      <th>D_AVGDI_CY</th>\n",
       "      <th>D_AVGFMSZ_</th>\n",
       "      <th>D_AVGHHSZ_</th>\n",
       "      <th>D_AVGHINC_</th>\n",
       "      <th>...</th>\n",
       "      <th>LOCNUM</th>\n",
       "      <th>NAICS</th>\n",
       "      <th>SALESVOL</th>\n",
       "      <th>SIC</th>\n",
       "      <th>SQFTCODE</th>\n",
       "      <th>STATE</th>\n",
       "      <th>STREET</th>\n",
       "      <th>ZIP</th>\n",
       "      <th>ZIP4</th>\n",
       "      <th>SHAPE</th>\n",
       "    </tr>\n",
       "  </thead>\n",
       "  <tbody>\n",
       "    <tr>\n",
       "      <th>0</th>\n",
       "      <td>SEASIDE</td>\n",
       "      <td>937237872</td>\n",
       "      <td>-2147483648</td>\n",
       "      <td>425</td>\n",
       "      <td>4388</td>\n",
       "      <td>2668</td>\n",
       "      <td>59435</td>\n",
       "      <td>3.40</td>\n",
       "      <td>2.78</td>\n",
       "      <td>75632</td>\n",
       "      <td>...</td>\n",
       "      <td>666990510</td>\n",
       "      <td>45211101</td>\n",
       "      <td>35495</td>\n",
       "      <td>531102</td>\n",
       "      <td>D</td>\n",
       "      <td>CA</td>\n",
       "      <td>CALIFORNIA AVE</td>\n",
       "      <td>93955</td>\n",
       "      <td>3150</td>\n",
       "      <td>{'x': -121.84299999999993, 'y': 36.62100000000...</td>\n",
       "    </tr>\n",
       "    <tr>\n",
       "      <th>1</th>\n",
       "      <td>MARINA</td>\n",
       "      <td>835352352</td>\n",
       "      <td>-2147483648</td>\n",
       "      <td>378</td>\n",
       "      <td>6431</td>\n",
       "      <td>2656</td>\n",
       "      <td>57882</td>\n",
       "      <td>3.37</td>\n",
       "      <td>2.86</td>\n",
       "      <td>72966</td>\n",
       "      <td>...</td>\n",
       "      <td>653371815</td>\n",
       "      <td>45211101</td>\n",
       "      <td>35495</td>\n",
       "      <td>531102</td>\n",
       "      <td>D</td>\n",
       "      <td>CA</td>\n",
       "      <td>GENERAL STILLWELL DR</td>\n",
       "      <td>93933</td>\n",
       "      <td>6242</td>\n",
       "      <td>{'x': -121.81120000000001, 'y': 36.66760000000...</td>\n",
       "    </tr>\n",
       "    <tr>\n",
       "      <th>2</th>\n",
       "      <td>CAPITOLA</td>\n",
       "      <td>1493438921</td>\n",
       "      <td>1076047834</td>\n",
       "      <td>501</td>\n",
       "      <td>2246</td>\n",
       "      <td>3969</td>\n",
       "      <td>67479</td>\n",
       "      <td>3.00</td>\n",
       "      <td>2.40</td>\n",
       "      <td>89397</td>\n",
       "      <td>...</td>\n",
       "      <td>423468472</td>\n",
       "      <td>45211101</td>\n",
       "      <td>35495</td>\n",
       "      <td>531102</td>\n",
       "      <td>D</td>\n",
       "      <td>CA</td>\n",
       "      <td>41ST AVE</td>\n",
       "      <td>95010</td>\n",
       "      <td>2504</td>\n",
       "      <td>{'x': -121.96509999999991, 'y': 36.97530000000...</td>\n",
       "    </tr>\n",
       "    <tr>\n",
       "      <th>3</th>\n",
       "      <td>WATSONVILLE</td>\n",
       "      <td>597090145</td>\n",
       "      <td>-2147483648</td>\n",
       "      <td>573</td>\n",
       "      <td>1436</td>\n",
       "      <td>1636</td>\n",
       "      <td>49172</td>\n",
       "      <td>4.27</td>\n",
       "      <td>3.91</td>\n",
       "      <td>60171</td>\n",
       "      <td>...</td>\n",
       "      <td>511743478</td>\n",
       "      <td>45211101</td>\n",
       "      <td>35495</td>\n",
       "      <td>531102</td>\n",
       "      <td>D</td>\n",
       "      <td>CA</td>\n",
       "      <td>MAIN ST</td>\n",
       "      <td>95076</td>\n",
       "      <td>3755</td>\n",
       "      <td>{'x': -121.77399999999992, 'y': 36.91540000000...</td>\n",
       "    </tr>\n",
       "    <tr>\n",
       "      <th>4</th>\n",
       "      <td>CUPERTINO</td>\n",
       "      <td>-2147483648</td>\n",
       "      <td>-2147483648</td>\n",
       "      <td>259</td>\n",
       "      <td>76813</td>\n",
       "      <td>4541</td>\n",
       "      <td>112177</td>\n",
       "      <td>3.28</td>\n",
       "      <td>2.87</td>\n",
       "      <td>165790</td>\n",
       "      <td>...</td>\n",
       "      <td>404459478</td>\n",
       "      <td>45211101</td>\n",
       "      <td>52059</td>\n",
       "      <td>531102</td>\n",
       "      <td>D</td>\n",
       "      <td>CA</td>\n",
       "      <td>STEVENS CREEK BLVD</td>\n",
       "      <td>95014</td>\n",
       "      <td>2123</td>\n",
       "      <td>{'x': -122.03619999999995, 'y': 37.32310000000...</td>\n",
       "    </tr>\n",
       "  </tbody>\n",
       "</table>\n",
       "<p>5 rows × 160 columns</p>\n",
       "</div>"
      ],
      "text/plain": [
       "          CITY  D_AGGDI_CY  D_AGGNW_CY  D_AMERIND_  D_ASIAN_CY  D_ASSCDEG_  \\\n",
       "0      SEASIDE   937237872 -2147483648         425        4388        2668   \n",
       "1       MARINA   835352352 -2147483648         378        6431        2656   \n",
       "2     CAPITOLA  1493438921  1076047834         501        2246        3969   \n",
       "3  WATSONVILLE   597090145 -2147483648         573        1436        1636   \n",
       "4    CUPERTINO -2147483648 -2147483648         259       76813        4541   \n",
       "\n",
       "   D_AVGDI_CY  D_AVGFMSZ_  D_AVGHHSZ_  D_AVGHINC_  \\\n",
       "0       59435        3.40        2.78       75632   \n",
       "1       57882        3.37        2.86       72966   \n",
       "2       67479        3.00        2.40       89397   \n",
       "3       49172        4.27        3.91       60171   \n",
       "4      112177        3.28        2.87      165790   \n",
       "\n",
       "                         ...                             LOCNUM     NAICS  \\\n",
       "0                        ...                          666990510  45211101   \n",
       "1                        ...                          653371815  45211101   \n",
       "2                        ...                          423468472  45211101   \n",
       "3                        ...                          511743478  45211101   \n",
       "4                        ...                          404459478  45211101   \n",
       "\n",
       "   SALESVOL     SIC  SQFTCODE  STATE                STREET    ZIP  ZIP4  \\\n",
       "0     35495  531102         D     CA        CALIFORNIA AVE  93955  3150   \n",
       "1     35495  531102         D     CA  GENERAL STILLWELL DR  93933  6242   \n",
       "2     35495  531102         D     CA              41ST AVE  95010  2504   \n",
       "3     35495  531102         D     CA               MAIN ST  95076  3755   \n",
       "4     52059  531102         D     CA    STEVENS CREEK BLVD  95014  2123   \n",
       "\n",
       "                                               SHAPE  \n",
       "0  {'x': -121.84299999999993, 'y': 36.62100000000...  \n",
       "1  {'x': -121.81120000000001, 'y': 36.66760000000...  \n",
       "2  {'x': -121.96509999999991, 'y': 36.97530000000...  \n",
       "3  {'x': -121.77399999999992, 'y': 36.91540000000...  \n",
       "4  {'x': -122.03619999999995, 'y': 37.32310000000...  \n",
       "\n",
       "[5 rows x 160 columns]"
      ]
     },
     "execution_count": 7,
     "metadata": {},
     "output_type": "execute_result"
    }
   ],
   "source": [
    "sdf = feature_set.df\n",
    "sdf.head()"
   ]
  },
  {
   "cell_type": "markdown",
   "metadata": {},
   "source": [
    "### One Liner\n",
    "\n",
    "Above, we performed four steps in separate lines: create the item, retrieve the first layer, query the layer, and convert the layer to a SpatialDataFrame. Thanks to chaining, we can accomplish all of these steps in a single line for brevity if we so desire."
   ]
  },
  {
   "cell_type": "code",
   "execution_count": 8,
   "metadata": {},
   "outputs": [
    {
     "data": {
      "text/html": [
       "<div>\n",
       "<style scoped>\n",
       "    .dataframe tbody tr th:only-of-type {\n",
       "        vertical-align: middle;\n",
       "    }\n",
       "\n",
       "    .dataframe tbody tr th {\n",
       "        vertical-align: top;\n",
       "    }\n",
       "\n",
       "    .dataframe thead th {\n",
       "        text-align: right;\n",
       "    }\n",
       "</style>\n",
       "<table border=\"1\" class=\"dataframe\">\n",
       "  <thead>\n",
       "    <tr style=\"text-align: right;\">\n",
       "      <th></th>\n",
       "      <th>CITY</th>\n",
       "      <th>D_AGGDI_CY</th>\n",
       "      <th>D_AGGNW_CY</th>\n",
       "      <th>D_AMERIND_</th>\n",
       "      <th>D_ASIAN_CY</th>\n",
       "      <th>D_ASSCDEG_</th>\n",
       "      <th>D_AVGDI_CY</th>\n",
       "      <th>D_AVGFMSZ_</th>\n",
       "      <th>D_AVGHHSZ_</th>\n",
       "      <th>D_AVGHINC_</th>\n",
       "      <th>...</th>\n",
       "      <th>LOCNUM</th>\n",
       "      <th>NAICS</th>\n",
       "      <th>SALESVOL</th>\n",
       "      <th>SIC</th>\n",
       "      <th>SQFTCODE</th>\n",
       "      <th>STATE</th>\n",
       "      <th>STREET</th>\n",
       "      <th>ZIP</th>\n",
       "      <th>ZIP4</th>\n",
       "      <th>SHAPE</th>\n",
       "    </tr>\n",
       "  </thead>\n",
       "  <tbody>\n",
       "    <tr>\n",
       "      <th>0</th>\n",
       "      <td>SEASIDE</td>\n",
       "      <td>937237872</td>\n",
       "      <td>-2147483648</td>\n",
       "      <td>425</td>\n",
       "      <td>4388</td>\n",
       "      <td>2668</td>\n",
       "      <td>59435</td>\n",
       "      <td>3.40</td>\n",
       "      <td>2.78</td>\n",
       "      <td>75632</td>\n",
       "      <td>...</td>\n",
       "      <td>666990510</td>\n",
       "      <td>45211101</td>\n",
       "      <td>35495</td>\n",
       "      <td>531102</td>\n",
       "      <td>D</td>\n",
       "      <td>CA</td>\n",
       "      <td>CALIFORNIA AVE</td>\n",
       "      <td>93955</td>\n",
       "      <td>3150</td>\n",
       "      <td>{'x': -121.84299999999993, 'y': 36.62100000000...</td>\n",
       "    </tr>\n",
       "    <tr>\n",
       "      <th>1</th>\n",
       "      <td>MARINA</td>\n",
       "      <td>835352352</td>\n",
       "      <td>-2147483648</td>\n",
       "      <td>378</td>\n",
       "      <td>6431</td>\n",
       "      <td>2656</td>\n",
       "      <td>57882</td>\n",
       "      <td>3.37</td>\n",
       "      <td>2.86</td>\n",
       "      <td>72966</td>\n",
       "      <td>...</td>\n",
       "      <td>653371815</td>\n",
       "      <td>45211101</td>\n",
       "      <td>35495</td>\n",
       "      <td>531102</td>\n",
       "      <td>D</td>\n",
       "      <td>CA</td>\n",
       "      <td>GENERAL STILLWELL DR</td>\n",
       "      <td>93933</td>\n",
       "      <td>6242</td>\n",
       "      <td>{'x': -121.81120000000001, 'y': 36.66760000000...</td>\n",
       "    </tr>\n",
       "    <tr>\n",
       "      <th>2</th>\n",
       "      <td>CAPITOLA</td>\n",
       "      <td>1493438921</td>\n",
       "      <td>1076047834</td>\n",
       "      <td>501</td>\n",
       "      <td>2246</td>\n",
       "      <td>3969</td>\n",
       "      <td>67479</td>\n",
       "      <td>3.00</td>\n",
       "      <td>2.40</td>\n",
       "      <td>89397</td>\n",
       "      <td>...</td>\n",
       "      <td>423468472</td>\n",
       "      <td>45211101</td>\n",
       "      <td>35495</td>\n",
       "      <td>531102</td>\n",
       "      <td>D</td>\n",
       "      <td>CA</td>\n",
       "      <td>41ST AVE</td>\n",
       "      <td>95010</td>\n",
       "      <td>2504</td>\n",
       "      <td>{'x': -121.96509999999991, 'y': 36.97530000000...</td>\n",
       "    </tr>\n",
       "    <tr>\n",
       "      <th>3</th>\n",
       "      <td>WATSONVILLE</td>\n",
       "      <td>597090145</td>\n",
       "      <td>-2147483648</td>\n",
       "      <td>573</td>\n",
       "      <td>1436</td>\n",
       "      <td>1636</td>\n",
       "      <td>49172</td>\n",
       "      <td>4.27</td>\n",
       "      <td>3.91</td>\n",
       "      <td>60171</td>\n",
       "      <td>...</td>\n",
       "      <td>511743478</td>\n",
       "      <td>45211101</td>\n",
       "      <td>35495</td>\n",
       "      <td>531102</td>\n",
       "      <td>D</td>\n",
       "      <td>CA</td>\n",
       "      <td>MAIN ST</td>\n",
       "      <td>95076</td>\n",
       "      <td>3755</td>\n",
       "      <td>{'x': -121.77399999999992, 'y': 36.91540000000...</td>\n",
       "    </tr>\n",
       "    <tr>\n",
       "      <th>4</th>\n",
       "      <td>CUPERTINO</td>\n",
       "      <td>-2147483648</td>\n",
       "      <td>-2147483648</td>\n",
       "      <td>259</td>\n",
       "      <td>76813</td>\n",
       "      <td>4541</td>\n",
       "      <td>112177</td>\n",
       "      <td>3.28</td>\n",
       "      <td>2.87</td>\n",
       "      <td>165790</td>\n",
       "      <td>...</td>\n",
       "      <td>404459478</td>\n",
       "      <td>45211101</td>\n",
       "      <td>52059</td>\n",
       "      <td>531102</td>\n",
       "      <td>D</td>\n",
       "      <td>CA</td>\n",
       "      <td>STEVENS CREEK BLVD</td>\n",
       "      <td>95014</td>\n",
       "      <td>2123</td>\n",
       "      <td>{'x': -122.03619999999995, 'y': 37.32310000000...</td>\n",
       "    </tr>\n",
       "  </tbody>\n",
       "</table>\n",
       "<p>5 rows × 160 columns</p>\n",
       "</div>"
      ],
      "text/plain": [
       "          CITY  D_AGGDI_CY  D_AGGNW_CY  D_AMERIND_  D_ASIAN_CY  D_ASSCDEG_  \\\n",
       "0      SEASIDE   937237872 -2147483648         425        4388        2668   \n",
       "1       MARINA   835352352 -2147483648         378        6431        2656   \n",
       "2     CAPITOLA  1493438921  1076047834         501        2246        3969   \n",
       "3  WATSONVILLE   597090145 -2147483648         573        1436        1636   \n",
       "4    CUPERTINO -2147483648 -2147483648         259       76813        4541   \n",
       "\n",
       "   D_AVGDI_CY  D_AVGFMSZ_  D_AVGHHSZ_  D_AVGHINC_  \\\n",
       "0       59435        3.40        2.78       75632   \n",
       "1       57882        3.37        2.86       72966   \n",
       "2       67479        3.00        2.40       89397   \n",
       "3       49172        4.27        3.91       60171   \n",
       "4      112177        3.28        2.87      165790   \n",
       "\n",
       "                         ...                             LOCNUM     NAICS  \\\n",
       "0                        ...                          666990510  45211101   \n",
       "1                        ...                          653371815  45211101   \n",
       "2                        ...                          423468472  45211101   \n",
       "3                        ...                          511743478  45211101   \n",
       "4                        ...                          404459478  45211101   \n",
       "\n",
       "   SALESVOL     SIC  SQFTCODE  STATE                STREET    ZIP  ZIP4  \\\n",
       "0     35495  531102         D     CA        CALIFORNIA AVE  93955  3150   \n",
       "1     35495  531102         D     CA  GENERAL STILLWELL DR  93933  6242   \n",
       "2     35495  531102         D     CA              41ST AVE  95010  2504   \n",
       "3     35495  531102         D     CA               MAIN ST  95076  3755   \n",
       "4     52059  531102         D     CA    STEVENS CREEK BLVD  95014  2123   \n",
       "\n",
       "                                               SHAPE  \n",
       "0  {'x': -121.84299999999993, 'y': 36.62100000000...  \n",
       "1  {'x': -121.81120000000001, 'y': 36.66760000000...  \n",
       "2  {'x': -121.96509999999991, 'y': 36.97530000000...  \n",
       "3  {'x': -121.77399999999992, 'y': 36.91540000000...  \n",
       "4  {'x': -122.03619999999995, 'y': 37.32310000000...  \n",
       "\n",
       "[5 rows x 160 columns]"
      ]
     },
     "execution_count": 8,
     "metadata": {},
     "output_type": "execute_result"
    }
   ],
   "source": [
    "sdf = Item(gis, item_id).layers[0].query(out_sr={'wkid': 4326}).df\n",
    "sdf.head()"
   ]
  },
  {
   "cell_type": "markdown",
   "metadata": {},
   "source": [
    "## View Results Inline\n",
    "\n",
    "Since the SpatialDataFrame is part of the ArcGIS Platform the results can be viewed inline in Jupyter Notebook using a widget displaying the data on a map.\n",
    "\n",
    "The first step is creating a Web Map object instance using the map method of the GIS object instance we created earlier."
   ]
  },
  {
   "cell_type": "code",
   "execution_count": 16,
   "metadata": {},
   "outputs": [
    {
     "data": {
      "application/vnd.jupyter.widget-view+json": {
       "model_id": "c2739965963c457d8416f093c80ab126"
      }
     },
     "metadata": {},
     "output_type": "display_data"
    }
   ],
   "source": [
    "webmap = gis.map('Meades Ranch, KS')\n",
    "webmap"
   ]
  },
  {
   "cell_type": "markdown",
   "metadata": {},
   "source": [
    "There are a multitude of options available for interacting with this web map. Here we are now going to zoom out to get a better feel for the area we are lookin at..."
   ]
  },
  {
   "cell_type": "code",
   "execution_count": 17,
   "metadata": {},
   "outputs": [],
   "source": [
    "webmap.zoom = 4"
   ]
  },
  {
   "cell_type": "markdown",
   "metadata": {},
   "source": [
    "...and next we are also going to change the basemap."
   ]
  },
  {
   "cell_type": "code",
   "execution_count": 18,
   "metadata": {},
   "outputs": [],
   "source": [
    "webmap.basemap = 'gray'"
   ]
  },
  {
   "cell_type": "markdown",
   "metadata": {},
   "source": [
    "Finally, we get to the good part, putting all the data from the SpatialDataFrame on the map using the [`plot` method](https://esri.github.io/arcgis-python-api/apidoc/html/arcgis.features.toc.html#arcgis.features.SpatialDataFrame.plot)."
   ]
  },
  {
   "cell_type": "code",
   "execution_count": 19,
   "metadata": {},
   "outputs": [
    {
     "data": {
      "text/plain": [
       "True"
      ]
     },
     "execution_count": 19,
     "metadata": {},
     "output_type": "execute_result"
    }
   ],
   "source": [
    "sdf.plot(kind='map', map_widget=webmap, renderer_type='o')"
   ]
  },
  {
   "cell_type": "code",
   "execution_count": null,
   "metadata": {},
   "outputs": [],
   "source": []
  }
 ],
 "metadata": {
  "kernelspec": {
   "display_name": "Python 3",
   "language": "python",
   "name": "python3"
  },
  "language_info": {
   "codemirror_mode": {
    "name": "ipython",
    "version": 3
   },
   "file_extension": ".py",
   "mimetype": "text/x-python",
   "name": "python",
   "nbconvert_exporter": "python",
   "pygments_lexer": "ipython3",
   "version": "3.6.4"
  }
 },
 "nbformat": 4,
 "nbformat_minor": 2
}
